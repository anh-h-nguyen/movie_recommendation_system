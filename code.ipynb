{
 "cells": [
  {
   "cell_type": "code",
   "execution_count": 2,
   "id": "8d8261c6-b1a1-46b1-8fb4-1418b766ae43",
   "metadata": {},
   "outputs": [],
   "source": [
    "# Import libraries\n",
    "import pandas as pd\n",
    "import re\n",
    "import numpy as np\n",
    "from sklearn.feature_extraction.text import TfidfVectorizer\n",
    "from sklearn.metrics.pairwise import cosine_similarity\n",
    "\n",
    "# Load datasets\n",
    "movies = pd.read_csv(\"C:/Users/anhng/Documents/Masters/630/movies.csv\")\n",
    "ratings = pd.read_csv(\"C:/Users/anhng/Documents/Masters/630/ratings.csv\")\n",
    "tags = pd.read_csv(\"C:/Users/anhng/Documents/Masters/630/tags.csv\")\n",
    "\n",
    "# Create a function to clean the dataframes and compute similarity matrix\n",
    "def preprocess_data(movies, ratings, tags):\n",
    "    # Compute TF-IDF matrix for genres\n",
    "    tfidf = TfidfVectorizer(stop_words='english')\n",
    "    tfidf_matrix = tfidf.fit_transform(movies['genres'].fillna(''))\n",
    "    genre_similarity = cosine_similarity(tfidf_matrix, tfidf_matrix)\n",
    "    \n",
    "    # Compute average ratings for each movie\n",
    "    avg_ratings = ratings.groupby('movieId')['rating'].mean()\n",
    "    movies = movies.merge(avg_ratings, on='movieId', how='left')\n",
    "    movies['rating'] = movies['rating'].fillna(movies['rating'].mean())\n",
    "    \n",
    "    # Combine all tags for each movie intro a single string\n",
    "    tag_data = tags.groupby('movieId')['tag'].apply(lambda x: ' '.join(x)).reset_index()\n",
    "    movies = movies.merge(tag_data, on='movieId', how='left')\n",
    "    movies['tag'] = movies['tag'].fillna('')\n",
    "    \n",
    "    # Compute TF-IDF matrix for tags\n",
    "    tag_tfidf = TfidfVectorizer(stop_words='english')\n",
    "    tag_matrix = tag_tfidf.fit_transform(movies['tag'])\n",
    "    tag_similarity = cosine_similarity(tag_matrix, tag_matrix)\n",
    "    \n",
    "    # Compute similarity matrix as the average of genre and tag similarities \n",
    "    final_similarity = (genre_similarity + tag_similarity) / 2\n",
    "    return movies, final_similarity\n",
    "\n",
    "# Create a function to clean movie titles\n",
    "def clean_title(title):\n",
    "    return re.sub(r'\\s*\\(\\d{4}\\)$', '', title).strip().lower()\n",
    "\n",
    "# Create a function to retrieve recommendations based on similarity scores\n",
    "def get_recommendations(user_input, movies, similarity_matrix):\n",
    "    cleaned_title = clean_title(user_input)\n",
    "    movies['cleaned_title'] = movies['title'].apply(clean_title)\n",
    "    \n",
    "    # Find the index of the user's input\n",
    "    idx = movies[movies['cleaned_title'] == cleaned_title].index\n",
    "    if len(idx) == 0:\n",
    "        print(f\"Sorry, '{user_input}' is not in our list of movies. Therefore, we cannot provide a recommendation based on this. Please try another movie:\")\n",
    "        return pd.DataFrame()\n",
    "    idx = idx[0]\n",
    "    \n",
    "    # Compute similarity scores for the user's input\n",
    "    sim_scores = list(enumerate(similarity_matrix[idx]))\n",
    "    sim_scores = sorted(sim_scores, key=lambda x: x[1], reverse=True)\n",
    "    sim_scores = [s for s in sim_scores if s[0] != idx] \n",
    "    sim_scores = sim_scores[:10]\n",
    "    movie_indices = [i[0] for i in sim_scores]\n",
    "    return movies.iloc[movie_indices][['title']]\n",
    "\n",
    "# Compute similarity matrix\n",
    "movies, similarity_matrix = preprocess_data(movies, ratings, tags)"
   ]
  },
  {
   "cell_type": "code",
   "execution_count": 3,
   "id": "720ec3e0-3386-449c-aa5e-c8263fd1eae0",
   "metadata": {},
   "outputs": [
    {
     "name": "stdin",
     "output_type": "stream",
     "text": [
      "Hello! Please input a movie you love:  Shrek\n"
     ]
    },
    {
     "name": "stdout",
     "output_type": "stream",
     "text": [
      "Because you love Shrek, we recommend these movies as your next watch!\n",
      "1. Into the Woods (1991)\n",
      "2. Gnomeo & Juliet (2011)\n",
      "3. Puss in Boots (Nagagutsu o haita neko) (1969)\n",
      "4. Toy Story (1995)\n",
      "5. Antz (1998)\n",
      "6. Toy Story 2 (1999)\n",
      "7. Adventures of Rocky and Bullwinkle, The (2000)\n",
      "8. Emperor's New Groove, The (2000)\n",
      "9. Monsters, Inc. (2001)\n",
      "10. Wild, The (2006)\n"
     ]
    },
    {
     "name": "stdin",
     "output_type": "stream",
     "text": [
      "Would you like to (1) input another movie or (2) exit? Please enter 1 or 2:  Toy Story\n"
     ]
    },
    {
     "name": "stdout",
     "output_type": "stream",
     "text": [
      "Invalid input. Please enter 1 or 2.\n"
     ]
    },
    {
     "name": "stdin",
     "output_type": "stream",
     "text": [
      "Would you like to (1) input another movie or (2) exit? Please enter 1 or 2:  1\n",
      "Please input another movie you love:  Toy Story\n"
     ]
    },
    {
     "name": "stdout",
     "output_type": "stream",
     "text": [
      "Because you love Toy Story, we recommend these movies as your next watch!\n",
      "1. Bug's Life, A (1998)\n",
      "2. Toy Story 2 (1999)\n",
      "3. The Lego Movie (2014)\n",
      "4. Up (2009)\n",
      "5. Antz (1998)\n",
      "6. Adventures of Rocky and Bullwinkle, The (2000)\n",
      "7. Emperor's New Groove, The (2000)\n",
      "8. Monsters, Inc. (2001)\n",
      "9. Wild, The (2006)\n",
      "10. Shrek the Third (2007)\n"
     ]
    },
    {
     "name": "stdin",
     "output_type": "stream",
     "text": [
      "Would you like to (1) input another movie or (2) exit? Please enter 1 or 2:  Monsters\n"
     ]
    },
    {
     "name": "stdout",
     "output_type": "stream",
     "text": [
      "Invalid input. Please enter 1 or 2.\n"
     ]
    },
    {
     "name": "stdin",
     "output_type": "stream",
     "text": [
      "Would you like to (1) input another movie or (2) exit? Please enter 1 or 2:  1\n",
      "Please input another movie you love:  Monsters\n"
     ]
    },
    {
     "name": "stdout",
     "output_type": "stream",
     "text": [
      "Because you love Monsters, we recommend these movies as your next watch!\n",
      "1. Powder (1995)\n",
      "2. Forbidden Planet (1956)\n",
      "3. Contact (1997)\n",
      "4. Metropolis (1927)\n",
      "5. 1984 (Nineteen Eighty-Four) (1984)\n",
      "6. Last Night (1998)\n",
      "7. Brother from Another Planet, The (1984)\n",
      "8. Unbreakable (2000)\n",
      "9. Altered States (1980)\n",
      "10. Silent Running (1972)\n"
     ]
    },
    {
     "name": "stdin",
     "output_type": "stream",
     "text": [
      "Would you like to (1) input another movie or (2) exit? Please enter 1 or 2:  1\n",
      "Please input another movie you love:  Sandlot\n"
     ]
    },
    {
     "name": "stdout",
     "output_type": "stream",
     "text": [
      "Sorry, 'Sandlot' is not in our list of movies. Therefore, we cannot provide a recommendation based on this. Please try another movie:\n"
     ]
    },
    {
     "name": "stdin",
     "output_type": "stream",
     "text": [
      "Please input another movie you love:  Sandlot, The\n"
     ]
    },
    {
     "name": "stdout",
     "output_type": "stream",
     "text": [
      "Because you love Sandlot, The, we recommend these movies as your next watch!\n",
      "1. Pollyanna (1960)\n",
      "2. Wide Awake (1998)\n",
      "3. Jack Frost (1998)\n",
      "4. Secondhand Lions (2003)\n",
      "5. Beethoven (1992)\n",
      "6. Because of Winn-Dixie (2005)\n",
      "7. Ice Princess (2005)\n",
      "8. Material Girls (2006)\n",
      "9. Son of Rambow (2007)\n",
      "10. Monsieur Lazhar (2011)\n"
     ]
    },
    {
     "name": "stdin",
     "output_type": "stream",
     "text": [
      "Would you like to (1) input another movie or (2) exit? Please enter 1 or 2:  2\n"
     ]
    },
    {
     "name": "stdout",
     "output_type": "stream",
     "text": [
      "Thank you for using our movie recommendation system! Have a great day!\n"
     ]
    }
   ],
   "source": [
    "# Create a loop to request user to input movie titles and provide recommendations\n",
    "first_input = True\n",
    "\n",
    "while True:\n",
    "    if first_input:\n",
    "        user_input = input(\"Hello! Please input a movie you love: \")\n",
    "        first_input = False\n",
    "    else:\n",
    "        user_input = input(\"Please input another movie you love: \")\n",
    "\n",
    "    recommendations = get_recommendations(user_input, movies, similarity_matrix)\n",
    "\n",
    "    while True:\n",
    "        # Print recommendations on top 10 movies for user to watch next\n",
    "        if not recommendations.empty:\n",
    "            print(f\"Because you love {user_input}, we recommend these movies as your next watch!\")\n",
    "            for i, row in enumerate(recommendations.itertuples(), 1):\n",
    "                print(f\"{i}. {row.title}\")\n",
    "        else:\n",
    "            break\n",
    "        \n",
    "        # Ask the user for next action\n",
    "        while True:\n",
    "            user_choice = input(\"Would you like to (1) input another movie or (2) exit? Please enter 1 or 2: \")\n",
    "            if user_choice == '1':\n",
    "                recommendations = pd.DataFrame() \n",
    "                break  \n",
    "            elif user_choice == '2':\n",
    "                print(\"Thank you for using our movie recommendation system! Have a great day!\")\n",
    "                recommendations = pd.DataFrame() \n",
    "                break \n",
    "            else:\n",
    "                print(\"Invalid input. Please enter 1 or 2.\")\n",
    "        \n",
    "        if user_choice == '2':\n",
    "            break\n",
    "   \n",
    "    if user_choice == '2':\n",
    "        break"
   ]
  }
 ],
 "metadata": {
  "kernelspec": {
   "display_name": "Python 3 (ipykernel)",
   "language": "python",
   "name": "python3"
  },
  "language_info": {
   "codemirror_mode": {
    "name": "ipython",
    "version": 3
   },
   "file_extension": ".py",
   "mimetype": "text/x-python",
   "name": "python",
   "nbconvert_exporter": "python",
   "pygments_lexer": "ipython3",
   "version": "3.12.7"
  }
 },
 "nbformat": 4,
 "nbformat_minor": 5
}
